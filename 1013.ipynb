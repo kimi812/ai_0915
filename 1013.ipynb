{
  "nbformat": 4,
  "nbformat_minor": 0,
  "metadata": {
    "colab": {
      "provenance": [],
      "authorship_tag": "ABX9TyNNWPqP8M6gOXR5kZYC/knJ",
      "include_colab_link": true
    },
    "kernelspec": {
      "name": "python3",
      "display_name": "Python 3"
    },
    "language_info": {
      "name": "python"
    }
  },
  "cells": [
    {
      "cell_type": "markdown",
      "metadata": {
        "id": "view-in-github",
        "colab_type": "text"
      },
      "source": [
        "<a href=\"https://colab.research.google.com/github/kimi812/ai_0915/blob/main/1013.ipynb\" target=\"_parent\"><img src=\"https://colab.research.google.com/assets/colab-badge.svg\" alt=\"Open In Colab\"/></a>"
      ]
    },
    {
      "cell_type": "code",
      "execution_count": 14,
      "metadata": {
        "colab": {
          "base_uri": "https://localhost:8080/"
        },
        "id": "JSPKG-i0b-At",
        "outputId": "8ee8374c-d1b8-4162-e6f3-8bf0a666150d"
      },
      "outputs": [
        {
          "output_type": "stream",
          "name": "stdout",
          "text": [
            "2021\n",
            "2026\n",
            "hello :3\n",
            "20 21\n"
          ]
        }
      ],
      "source": [
        "a = 2021    # a 為變數\n",
        "print(a)\n",
        "a += 5         # a=a+5\n",
        "print(a)\n",
        "a='hello '\n",
        "q=a+':3'       # 會顯示錯誤訊息，文字不可計算\n",
        "print(q)\n",
        "x,y = 20,21 #變數要對稱\n",
        "print(x,y)\n",
        "#a=a+a  #相加後可存回a\n",
        "\n"
      ]
    },
    {
      "cell_type": "code",
      "source": [
        "mycal = input('請輸入要計算的數式子：')\n",
        "print(eval(mycal))     # eval ：計算式子的結果\n"
      ],
      "metadata": {
        "colab": {
          "base_uri": "https://localhost:8080/"
        },
        "id": "ogwg8oe3kTPb",
        "outputId": "daf72135-6d80-47af-b045-5786bafc7bb1"
      },
      "execution_count": 15,
      "outputs": [
        {
          "output_type": "stream",
          "name": "stdout",
          "text": [
            "請輸入要計算的數式子：6*5+5*5\n",
            "55\n"
          ]
        }
      ]
    },
    {
      "cell_type": "code",
      "source": [
        "print('加法程式')\n",
        "x, y = input('請輸入兩個整數值> ').split()\n",
        "x = int(x)\n",
        "y = int(y)\n",
        "total = x+y\n",
        "print('答案是', total)\n",
        "\n"
      ],
      "metadata": {
        "colab": {
          "base_uri": "https://localhost:8080/"
        },
        "id": "8RlsRr3zow5i",
        "outputId": "1229b217-66ef-4b78-eb10-36c03c1b0135"
      },
      "execution_count": 25,
      "outputs": [
        {
          "output_type": "stream",
          "name": "stdout",
          "text": [
            "加法程式\n",
            "請輸入兩個整數值> 55 45\n",
            "答案是 100\n"
          ]
        }
      ]
    },
    {
      "cell_type": "code",
      "source": [
        "i=\"*\"\n",
        "j=\" \"\n",
        "print(i*5+\"\\n\"+i*1+j*3+i*1+\"\\n\"+i*1+j*3+i*1+\"\\n\"+i*1+j*3+i*1+\"\\n\"+i*1+j*3+i*1+\"\\n\"+i*1+j*3+i*1+\"\\n\"+i*5)"
      ],
      "metadata": {
        "colab": {
          "base_uri": "https://localhost:8080/"
        },
        "id": "6PK_CtnPsqdR",
        "outputId": "8ec83bae-994f-4418-86f5-46e1b00eae76"
      },
      "execution_count": 27,
      "outputs": [
        {
          "output_type": "stream",
          "name": "stdout",
          "text": [
            "*****\n",
            "*   *\n",
            "*   *\n",
            "*   *\n",
            "*   *\n",
            "*   *\n",
            "*****\n"
          ]
        }
      ]
    },
    {
      "cell_type": "code",
      "source": [
        "string = '11141206 呂玟萱 企管系 四年級 獅子座'\n",
        "print(string[1::2])\n"
      ],
      "metadata": {
        "colab": {
          "base_uri": "https://localhost:8080/"
        },
        "id": "w3lko9wmuxXX",
        "outputId": "7fd3f2d6-3a58-4c9b-adca-6f33225278c2"
      },
      "execution_count": 29,
      "outputs": [
        {
          "output_type": "stream",
          "name": "stdout",
          "text": [
            "1426呂萱企系四級獅座\n"
          ]
        }
      ]
    }
  ]
}