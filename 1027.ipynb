{
  "nbformat": 4,
  "nbformat_minor": 0,
  "metadata": {
    "colab": {
      "provenance": [],
      "authorship_tag": "ABX9TyMXpMuI/TMwqIjg1xtGLZAW",
      "include_colab_link": true
    },
    "kernelspec": {
      "name": "python3",
      "display_name": "Python 3"
    },
    "language_info": {
      "name": "python"
    }
  },
  "cells": [
    {
      "cell_type": "markdown",
      "metadata": {
        "id": "view-in-github",
        "colab_type": "text"
      },
      "source": [
        "<a href=\"https://colab.research.google.com/github/kimi812/ai_0915/blob/main/1027.ipynb\" target=\"_parent\"><img src=\"https://colab.research.google.com/assets/colab-badge.svg\" alt=\"Open In Colab\"/></a>"
      ]
    },
    {
      "cell_type": "code",
      "execution_count": 1,
      "metadata": {
        "colab": {
          "base_uri": "https://localhost:8080/"
        },
        "id": "bcCf3ewfiBmP",
        "outputId": "5bb833c9-0268-4cd6-d860-d95ed5e1c60a"
      },
      "outputs": [
        {
          "output_type": "stream",
          "name": "stdout",
          "text": [
            "請輸入要計算的數字：6\n",
            "這是加5後的答案 11\n",
            "這是輸入的資料型別: <class 'int'>\n"
          ]
        }
      ],
      "source": [
        "a = input('請輸入要計算的數字：')  # 使用 input() 函數提示用戶輸入數字，並將輸入的內容賦值給變數 a。需要注意的是，input() 函數返回的是字串類型。\n",
        "a = int(a) + 5  # 將字串類型的 a 轉換為整數類型，然後加上 5，最後將結果重新賦值給 a。\n",
        "print('這是加5後的答案', a)  # 使用 print() 函數輸出加 5 後的結果。\n",
        "print('這是輸入的資料型別:', type(a))  # 使用 type() 函數獲取變數 a 的資料型別，並使用 print() 函數輸出。\n",
        "\n"
      ]
    },
    {
      "cell_type": "code",
      "source": [
        "print('加法程式')                            # 輸出提示訊息，告知使用者這是一個加法程式\n",
        "x, y = input('請輸入兩個整數值> ').split('-')   # 提示使用者輸入兩個整數，使用 input() 獲取輸入，並使用 split() 將輸入的字串按空格分割，分別賦值給變數 x 和 y\n",
        "x = int(x)                                   # 將變數 x 的值從字串轉換為整數\n",
        "y = int(y)                                   # 將變數 y 的值從字串轉換為整數\n",
        "total = x + y                                # 將變數 x 和 y 相加，結果賦值給變數 total\n",
        "print('答案是', total)                       # 輸出結果，顯示兩數相加的總和\n",
        "\n"
      ],
      "metadata": {
        "colab": {
          "base_uri": "https://localhost:8080/"
        },
        "id": "7rv8ejk-mcMO",
        "outputId": "456d0a0b-2d86-4b46-fb34-a7d54c7c9bd6"
      },
      "execution_count": 4,
      "outputs": [
        {
          "output_type": "stream",
          "name": "stdout",
          "text": [
            "加法程式\n",
            "請輸入兩個整數值> 365-99\n",
            "答案是 464\n"
          ]
        }
      ]
    },
    {
      "cell_type": "code",
      "source": [
        "t = \"Python 是 一門 強大的 編程 語言\"  # 定義一個包含多個單詞的字符串\n",
        "ans = t.split(' ',2)  # 使用 split() 方法將字符串按照空格分割成多個單詞\n",
        "print(ans)  # 輸出結果：['Python', '是', '一門', '強大的', '編程', '語言']\n"
      ],
      "metadata": {
        "colab": {
          "base_uri": "https://localhost:8080/"
        },
        "id": "H4wI8pzuoD78",
        "outputId": "4da0e00d-accc-47e9-d1a8-fdcfb19d30fb"
      },
      "execution_count": 7,
      "outputs": [
        {
          "output_type": "stream",
          "name": "stdout",
          "text": [
            "['Python', '是', '一門 強大的 編程 語言']\n"
          ]
        }
      ]
    },
    {
      "cell_type": "code",
      "source": [
        "num = 50  # 將整數 50 賦值給變數 num\n",
        "if num > 10:  # 如果 num 大於 10，則執行以下縮排的程式碼區塊\n",
        "    print(\"The number is larger than 10\")  # 輸出字串 \"The number is larger than 10\"\n"
      ],
      "metadata": {
        "colab": {
          "base_uri": "https://localhost:8080/"
        },
        "id": "4UsJNgH8pv3S",
        "outputId": "9a7cc007-d6e3-41a3-8df8-5674be1bb330"
      },
      "execution_count": 10,
      "outputs": [
        {
          "output_type": "stream",
          "name": "stdout",
          "text": [
            "The number is larger than 10\n"
          ]
        }
      ]
    },
    {
      "cell_type": "code",
      "source": [
        "num1 = 0                           # 將整數 50 賦值給變數 num1\n",
        "print(\"The number is\", num1)        # 輸出字串 \"The number is\" 和變數 num1 的值\n",
        "if num1 > 10:                       # 檢查 num1 是否大於 10\n",
        "    print(\"The number is larger than 10\")  # 如果條件為真，輸出 \"The number is larger than 10\"\n",
        "else:                               # 如果條件為假，執行以下區塊\n",
        "    print(\"The number is less than 10\")    # 輸出 \"The number is less than 10\"\n"
      ],
      "metadata": {
        "colab": {
          "base_uri": "https://localhost:8080/"
        },
        "id": "BWubnD3_pbrb",
        "outputId": "181a56b7-78a9-4c67-858a-dbe40f252a15"
      },
      "execution_count": 9,
      "outputs": [
        {
          "output_type": "stream",
          "name": "stdout",
          "text": [
            "The number is 0\n",
            "The number is less than 10\n"
          ]
        }
      ]
    }
  ]
}